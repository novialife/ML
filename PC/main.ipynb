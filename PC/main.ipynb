{
 "cells": [
  {
   "cell_type": "code",
   "execution_count": null,
   "metadata": {},
   "outputs": [],
   "source": [
    "import pandas as pd\n",
    "from scipy import stats\n",
    "import numpy as np\n",
    "import matplotlib.pyplot as plt\n",
    "import sklearn as sk\n",
    "import warnings\n",
    "import io\n",
    "\n",
    "warnings.filterwarnings('ignore')"
   ]
  },
  {
   "cell_type": "code",
   "execution_count": null,
   "metadata": {},
   "outputs": [],
   "source": [
    "train_data = pd.read_csv('TrainONMe-4.csv', index_col=0)\n",
    "eval_data = pd.read_csv('EvaluateOnMe-4.csv', index_col=0)\n",
    "train_data.dropna(inplace=True)"
   ]
  },
  {
   "cell_type": "code",
   "execution_count": null,
   "metadata": {},
   "outputs": [],
   "source": [
    "train_data.drop(train_data[train_data.x7 == 'chottis'].index, inplace=True)\n",
    "train_data.drop(train_data[train_data.x7 == 'olka'].index, inplace=True)"
   ]
  },
  {
   "cell_type": "code",
   "execution_count": null,
   "metadata": {},
   "outputs": [],
   "source": [
    "train_data.drop(train_data.loc[train_data.x12 == \"YEP True\"].index[0], inplace=True)\n",
    "train_data.drop(train_data.loc[train_data.x12 == \"Nope False\"].index[0], inplace=True)"
   ]
  },
  {
   "cell_type": "code",
   "execution_count": null,
   "metadata": {},
   "outputs": [],
   "source": [
    "train_data.replace([\"?\"], np.nan, inplace=True)\n",
    "train_data.dropna(inplace=True)\n",
    "train_data.x4 = train_data.x4.astype(float)"
   ]
  },
  {
   "cell_type": "code",
   "execution_count": null,
   "metadata": {},
   "outputs": [],
   "source": [
    "for i in train_data.index:\n",
    "    try:\n",
    "        int(i)\n",
    "    except:\n",
    "        train_data.drop(i, inplace=True)\n",
    "train_data.index = train_data.index.astype(int)\n"
   ]
  },
  {
   "cell_type": "code",
   "execution_count": null,
   "metadata": {},
   "outputs": [],
   "source": [
    "zscore = np.abs(stats.zscore(train_data.select_dtypes(include=[\"float\"])))\n",
    "ZSCORE_THREASHOLD = 4\n",
    "\n",
    "is_inlier = ~ (zscore > ZSCORE_THREASHOLD).any(axis=1)\n",
    "train_data = train_data[is_inlier]"
   ]
  },
  {
   "cell_type": "code",
   "execution_count": null,
   "metadata": {},
   "outputs": [],
   "source": [
    "corrs = train_data.corr()\n",
    "test_train_data = train_data.drop([\"x1\", \"x2\", \"x6\", \"x13\"], axis=1)"
   ]
  },
  {
   "cell_type": "code",
   "execution_count": null,
   "metadata": {},
   "outputs": [],
   "source": [
    "from sklearn.model_selection import train_test_split\n",
    "\n",
    "RANDOM_STATE = 42\n",
    "\n",
    "X = test_train_data.drop('y', axis=1)\n",
    "y = train_data.y\n",
    "X_train, X_test, y_train, y_test = train_test_split(X, y, test_size=0.2, random_state=RANDOM_STATE)\n"
   ]
  },
  {
   "cell_type": "code",
   "execution_count": null,
   "metadata": {},
   "outputs": [],
   "source": [
    "numerical_features = X.select_dtypes(include=['float64']).columns\n",
    "categorical_features = X.select_dtypes(include=['object']).columns"
   ]
  },
  {
   "cell_type": "code",
   "execution_count": null,
   "metadata": {},
   "outputs": [],
   "source": [
    "from sklearn.impute import SimpleImputer\n",
    "from sklearn.preprocessing import OrdinalEncoder, OneHotEncoder\n",
    "from sklearn.pipeline import Pipeline\n",
    "\n",
    "categorical_transformer = Pipeline(steps=[\n",
    "    ('imputer', SimpleImputer(strategy='constant', fill_value=\"missing\")),\n",
    "    ('encoder', OrdinalEncoder())\n",
    "])"
   ]
  },
  {
   "cell_type": "code",
   "execution_count": null,
   "metadata": {},
   "outputs": [],
   "source": [
    "from sklearn.preprocessing import StandardScaler\n",
    "from sklearn.decomposition import PCA, KernelPCA\n",
    "\n",
    "numerical_transformer = Pipeline(steps=[\n",
    "    ('imputer', SimpleImputer(strategy='median')),\n",
    "    ('pca', PCA(n_components=7)),\n",
    "])"
   ]
  },
  {
   "cell_type": "code",
   "execution_count": null,
   "metadata": {},
   "outputs": [],
   "source": [
    "from sklearn.compose import ColumnTransformer\n",
    "\n",
    "preprocessor = ColumnTransformer(transformers=[\n",
    "    ('num', numerical_transformer, numerical_features),\n",
    "    ('cat', categorical_transformer, categorical_features)\n",
    "])"
   ]
  },
  {
   "cell_type": "code",
   "execution_count": null,
   "metadata": {},
   "outputs": [],
   "source": [
    "import numpy as np\n",
    "from sklearn.ensemble import RandomForestClassifier\n",
    "from sklearn.model_selection import RandomizedSearchCV\n",
    "from sklearn.model_selection import StratifiedKFold\n",
    "pipeline = Pipeline(steps=[('preprocessor', preprocessor),\n",
    "                            ('forest', RandomForestClassifier(random_state=RANDOM_STATE))])\n",
    "params = { \n",
    " 'forest__bootstrap': [True, False],\n",
    " 'forest__max_depth': list(range(1, 30)) + [None],\n",
    " 'forest__max_features': ['auto', 'sqrt', 'log2'],\n",
    " 'forest__min_samples_leaf': [1, 2, 3, 4, 5, 6, 7, 8, 9, 10],\n",
    " 'forest__min_samples_split': [1, 2, 3, 4, 5, 6, 7, 8, 9, 10],\n",
    " 'forest__n_estimators': [200, 300, 400, 500, 600]\n",
    "}\n",
    "\n",
    "cv = StratifiedKFold(shuffle=True, random_state=RANDOM_STATE, n_splits=10)\n",
    "rfr_random = RandomizedSearchCV(pipeline, param_distributions=params, n_iter = 1500, cv = cv, verbose=3, random_state=RANDOM_STATE, n_jobs=-1, return_train_score=True)\n",
    "print(\"Fitting now\")\n",
    "rfr_random.fit(X, y)\n",
    "rfr_random.best_score_"
   ]
  },
  {
   "cell_type": "code",
   "execution_count": null,
   "metadata": {},
   "outputs": [],
   "source": [
    "# from sklearn.model_selection import StratifiedKFold\n",
    "\n",
    "# current_best_score = {}\n",
    "\n",
    "# #from tqdm.notebook import tqdm, trange\n",
    "\n",
    "# for depth in range(1, 30):\n",
    "#     print(depth)\n",
    "#     for i in range(1, 9):\n",
    "#         from sklearn.feature_selection import SelectKBest, f_classif\n",
    "#         from  sklearn.ensemble import RandomForestClassifier\n",
    "\n",
    "#         pipeline = Pipeline(steps=[('preprocessor',\n",
    "#                  ColumnTransformer(transformers=[('num',\n",
    "#                                                   Pipeline(steps=[('imputer',\n",
    "#                                                                    SimpleImputer(strategy='median')),\n",
    "#                                                                   ('pca',\n",
    "#                                                                    PCA(n_components=7))]),\n",
    "#                                                   pd.Index(['x3', 'x4', 'x5', 'x8', 'x9', 'x10', 'x11'], dtype='object')),\n",
    "#                                                  ('cat',\n",
    "#                                                   Pipeline(steps=[('imputer',\n",
    "#                                                                    SimpleImputer(fill_value='missing',\n",
    "#                                                                                  strategy='constant')),\n",
    "#                                                                   ('encoder',\n",
    "#                                                                    OrdinalEncoder())]),\n",
    "#                                                   pd.Index(['x7', 'x12'], dtype='object'))])),\n",
    "#                 ('select', SelectKBest(f_classif, k=i)),\n",
    "#                 ('forest',\n",
    "#                  RandomForestClassifier(max_depth=depth, max_features='sqrt',\n",
    "#                                         min_samples_split=3,\n",
    "#                                         n_estimators=300))])\n",
    "\n",
    "#         # 12 = depth -> RandomizedSearchedCV result.\n",
    "\n",
    "#         # Depth 14 for n = 6 gives best accuracy and CV score.\n",
    "\n",
    "#         # Test train split\n",
    "#         from sklearn.model_selection import cross_val_score\n",
    "#         model = pipeline.fit(X_train, y_train)\n",
    "#         #model_score = model.score(X_test, y_test)\n",
    "#         cv = StratifiedKFold(shuffle=True, n_splits=10)\n",
    "#         cv_score = np.average(cross_val_score(pipeline, X_train, y_train, cv=cv, n_jobs=-1))\n",
    "#         if len(current_best_score) == 0 or cv_score > current_best_score[\"CV Score\"]:\n",
    "#             current_best_score = {\n",
    "#             \"depth\": depth,\n",
    "#             \"n\": i,\n",
    "#             \"Accuracy Score\": model.score(X_test, y_test),\n",
    "#             \"CV Score\": cv_score\n",
    "#             }"
   ]
  },
  {
   "cell_type": "code",
   "execution_count": null,
   "metadata": {},
   "outputs": [],
   "source": [
    "#current_best_score"
   ]
  },
  {
   "cell_type": "code",
   "execution_count": null,
   "metadata": {},
   "outputs": [],
   "source": [
    "from sklearn.feature_selection import SelectKBest, f_classif\n",
    "from  sklearn.ensemble import RandomForestClassifier\n",
    "\n",
    "pipeline = Pipeline(steps=[('preprocessor',\n",
    "                 ColumnTransformer(transformers=[('num',\n",
    "                                                  Pipeline(steps=[('imputer',\n",
    "                                                                   SimpleImputer(strategy='median')),\n",
    "                                                                  ('pca',\n",
    "                                                                   PCA(n_components=7))]),\n",
    "                                                  pd.Index(['x3', 'x4', 'x5', 'x8', 'x9', 'x10', 'x11'], dtype='object')),\n",
    "                                                 ('cat',\n",
    "                                                  Pipeline(steps=[('imputer',\n",
    "                                                                   SimpleImputer(fill_value='missing',\n",
    "                                                                                 strategy='constant')),\n",
    "                                                                  ('encoder',\n",
    "                                                                   OrdinalEncoder(handle_unknown='use_encoded_value',unknown_value=-1))]),\n",
    "                                                  pd.Index(['x7', 'x12'], dtype='object'))])),\n",
    "                ('select', SelectKBest(f_classif, k=6)),\n",
    "                ('forest',\n",
    "                 RandomForestClassifier(max_depth=13, max_features='sqrt',\n",
    "                                        min_samples_split=3,\n",
    "                                        n_estimators=200))])"
   ]
  },
  {
   "cell_type": "code",
   "execution_count": null,
   "metadata": {},
   "outputs": [],
   "source": [
    "eval_data = pd.read_csv('EvaluateOnMe-4.csv', index_col=0)\n",
    "eval_data.x12 = eval_data.x12.astype(str)"
   ]
  },
  {
   "cell_type": "code",
   "execution_count": null,
   "metadata": {},
   "outputs": [],
   "source": [
    "model = pipeline.fit(X_train, y_train)"
   ]
  },
  {
   "cell_type": "code",
   "execution_count": null,
   "metadata": {},
   "outputs": [],
   "source": [
    "from sklearn.metrics import confusion_matrix, classification_report\n",
    "\n",
    "print(classification_report(y_test, model.predict(X_test)))\n",
    "pd.DataFrame(confusion_matrix(y_test, model.predict(X_test)), columns=[\"Atsuto\", \"Bob\", \"Jorg\"], index=[\"Atsuto\", \"Bob\", \"Jorg\"])"
   ]
  },
  {
   "cell_type": "code",
   "execution_count": null,
   "metadata": {},
   "outputs": [],
   "source": [
    "from sklearn.model_selection import cross_val_score\n",
    "\n",
    "cv_list = []\n",
    "for x in range(100):\n",
    "    cv_list.append(cross_val_score(pipeline, X_train, y_train, n_jobs=-1).mean())\n",
    "\n",
    "print(np.average(cv_list))"
   ]
  },
  {
   "cell_type": "code",
   "execution_count": null,
   "metadata": {},
   "outputs": [],
   "source": [
    "predictions = model.predict(eval_data)"
   ]
  },
  {
   "cell_type": "code",
   "execution_count": null,
   "metadata": {},
   "outputs": [],
   "source": [
    "with open(\"predictions.txt\", \"w\") as f:\n",
    "   for prediction in predictions:\n",
    "       f.write(str(prediction) + \"\\n\")"
   ]
  }
 ],
 "metadata": {
  "kernelspec": {
   "display_name": "Python 3.10.7 64-bit",
   "language": "python",
   "name": "python3"
  },
  "language_info": {
   "codemirror_mode": {
    "name": "ipython",
    "version": 3
   },
   "file_extension": ".py",
   "mimetype": "text/x-python",
   "name": "python",
   "nbconvert_exporter": "python",
   "pygments_lexer": "ipython3",
   "version": "3.10.7"
  },
  "orig_nbformat": 4,
  "vscode": {
   "interpreter": {
    "hash": "aee8b7b246df8f9039afb4144a1f6fd8d2ca17a180786b69acc140d282b71a49"
   }
  }
 },
 "nbformat": 4,
 "nbformat_minor": 2
}
