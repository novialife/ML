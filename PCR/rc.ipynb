{
 "cells": [
  {
   "cell_type": "code",
   "execution_count": null,
   "metadata": {},
   "outputs": [],
   "source": [
    "import pandas as pd\n",
    "from scipy import stats\n",
    "import numpy as np\n",
    "import matplotlib.pyplot as plt\n",
    "import sklearn as sk\n",
    "import warnings\n",
    "import io\n",
    "import joblib\n",
    "\n",
    "warnings.filterwarnings('ignore')"
   ]
  },
  {
   "cell_type": "code",
   "execution_count": null,
   "metadata": {},
   "outputs": [],
   "source": [
    "train = pd.read_csv('train.csv', index_col=0, sep=';')\n",
    "eval = pd.read_csv('eval.csv', index_col=0, sep=',')\n",
    "eval.x12 = eval.x12.astype('object')\n",
    "train.dropna(inplace=True)\n",
    "train = train.loc[~train.y.isin([\"Astuto\", \"tjugo\", \"Boob\", \"Jorgg\"])]"
   ]
  },
  {
   "cell_type": "code",
   "execution_count": null,
   "metadata": {},
   "outputs": [],
   "source": [
    "zscore = np.abs(stats.zscore(train.select_dtypes(include=[\"float\"])))\n",
    "ZSCORE_THREASHOLD = 4\n",
    "\n",
    "is_inlier = ~ (zscore > ZSCORE_THREASHOLD).any(axis=1)\n",
    "train = train[is_inlier]"
   ]
  },
  {
   "cell_type": "code",
   "execution_count": null,
   "metadata": {},
   "outputs": [],
   "source": [
    "from sklearn.model_selection import train_test_split\n",
    "\n",
    "RANDOM_STATE = 42\n",
    "X = train.drop(\"y\", axis=1)\n",
    "y = train[\"y\"]\n",
    "\n",
    "X_train, X_test, y_train, y_test = train_test_split(X, y, test_size=0.2, random_state=RANDOM_STATE)"
   ]
  },
  {
   "cell_type": "code",
   "execution_count": null,
   "metadata": {},
   "outputs": [],
   "source": [
    "numerical_features = X.select_dtypes(include=['float64']).columns\n",
    "categorical_features = X.select_dtypes(include=['object']).columns"
   ]
  },
  {
   "cell_type": "code",
   "execution_count": null,
   "metadata": {},
   "outputs": [],
   "source": [
    "from sklearn.impute import SimpleImputer\n",
    "from sklearn.preprocessing import OrdinalEncoder, OneHotEncoder\n",
    "from sklearn.pipeline import Pipeline\n",
    "\n",
    "categorical_transformer = Pipeline(steps=[\n",
    "    ('imputer', SimpleImputer(strategy='constant', fill_value=\"missing\")),\n",
    "    ('encoder', OrdinalEncoder(handle_unknown='use_encoded_value',unknown_value=-1))\n",
    "])"
   ]
  },
  {
   "cell_type": "code",
   "execution_count": null,
   "metadata": {},
   "outputs": [],
   "source": [
    "from sklearn.preprocessing import StandardScaler\n",
    "from sklearn.decomposition import PCA, KernelPCA\n",
    "\n",
    "numerical_transformer = Pipeline(steps=[\n",
    "    ('imputer', SimpleImputer(strategy='median')),\n",
    "    ('pca', PCA(n_components=7)),\n",
    "])"
   ]
  },
  {
   "cell_type": "code",
   "execution_count": null,
   "metadata": {},
   "outputs": [],
   "source": [
    "from sklearn.compose import ColumnTransformer\n",
    "\n",
    "preprocessor = ColumnTransformer(transformers=[\n",
    "    ('num', numerical_transformer, numerical_features),\n",
    "    ('cat', categorical_transformer, categorical_features)\n",
    "])"
   ]
  },
  {
   "cell_type": "code",
   "execution_count": null,
   "metadata": {},
   "outputs": [],
   "source": [
    "\n",
    "import numpy as np\n",
    "from xgboost import XGBRFClassifier\n",
    "from sklearn.model_selection import RandomizedSearchCV\n",
    "from sklearn.model_selection import StratifiedKFold\n",
    "\n",
    "# Encode the target variables to integers\n",
    "from sklearn.preprocessing import LabelEncoder\n",
    "le = LabelEncoder()\n",
    "y_boosted = le.fit_transform(y)\n",
    "\n",
    "\n",
    "\n",
    "pipeline_boosted = Pipeline(steps=[('preprocessor', preprocessor),\n",
    "                            ('classifier', XGBRFClassifier(random_state = RANDOM_STATE))])\n",
    "\n",
    "params_boosted = {\n",
    "    'classifier__n_estimators': [100, 200, 300, 400, 500],\n",
    "    'classifier__max_depth': [3, 4, 5, 6, 7, 8, 9, 10, 11, 12],\n",
    "    'classifier__learning_rate': [0.01, 0.05, 0.1, 0.2, 0.3],\n",
    "    'classifier__subsample': [0.5, 0.6, 0.7, 0.8, 0.9, 1.0],\n",
    "    'classifier__colsample_bytree': [0.5, 0.6, 0.7, 0.8, 0.9, 1.0],\n",
    "    'classifier__colsample_bylevel': [0.5, 0.6, 0.7, 0.8, 0.9, 1.0],\n",
    "    'classifier__colsample_bynode': [0.5, 0.6, 0.7, 0.8, 0.9, 1.0],\n",
    "    'classifier__reg_lambda': [0.1, 0.5, 1.0, 1.5, 2.0, 3.0, 4.0, 5.0],\n",
    "    'classifier__reg_alpha': [0.1, 0.5, 1.0, 1.5, 2.0, 3.0, 4.0, 5.0],\n",
    "    'classifier__gamma': [0.1, 0.5, 1.0, 1.5, 2.0, 3.0, 4.0, 5.0],\n",
    "    'classifier__min_child_weight': [1, 2, 3, 4, 5, 6, 7, 8, 9, 10],\n",
    "    'classifier__max_delta_step': [0, 1, 2, 3, 4, 5, 6, 7, 8, 9, 10],\n",
    "    'classifier__base_score': [0.1, 0.2, 0.3, 0.4, 0.5, 0.6, 0.7, 0.8, 0.9, 1.0],\n",
    "    'classifier__n_jobs': [2],\n",
    "    'classifier__random_state': [RANDOM_STATE],\n",
    "}\n",
    "\n",
    "cv = StratifiedKFold(shuffle=True, random_state=RANDOM_STATE, n_splits=10)\n",
    "rfr_random_boosted = RandomizedSearchCV(pipeline_boosted, param_distributions=params_boosted, n_iter = 5000, cv = cv, verbose=1, random_state=RANDOM_STATE, n_jobs=-1, return_train_score=True)\n",
    "print(\"Fitting now\")\n",
    "rfr_random_boosted.fit(X, y_boosted)\n",
    "rfr_random_boosted.best_score_\n"
   ]
  },
  {
   "cell_type": "code",
   "execution_count": null,
   "metadata": {},
   "outputs": [],
   "source": [
    "import numpy as np\n",
    "from sklearn.ensemble import RandomForestClassifier\n",
    "from sklearn.model_selection import RandomizedSearchCV\n",
    "from sklearn.model_selection import StratifiedKFold\n",
    "pipeline = Pipeline(steps=[('preprocessor', preprocessor),\n",
    "                            ('forest', RandomForestClassifier(random_state=RANDOM_STATE))])\n",
    "params = { \n",
    " 'forest__bootstrap': [True, False],\n",
    " 'forest__max_depth': list(range(1, 30)) + [None],\n",
    " 'forest__max_features': ['sqrt', 'log2'],\n",
    " 'forest__min_samples_leaf': list(range(1, 20)),\n",
    " 'forest__min_samples_split': list(range(1, 20)),\n",
    " 'forest__n_estimators': list(range(100, 1000, 100))\n",
    "}\n",
    "\n",
    "cv = StratifiedKFold(shuffle=True, random_state=RANDOM_STATE, n_splits=10)\n",
    "rfr_random = RandomizedSearchCV(pipeline, param_distributions=params, n_iter = 5000, cv = cv, verbose=1, random_state=RANDOM_STATE, n_jobs=-1, return_train_score=True)\n",
    "print(\"Fitting now\")\n",
    "rfr_random.fit(X, y)\n",
    "rfr_random.best_score_\n"
   ]
  },
  {
   "cell_type": "code",
   "execution_count": null,
   "metadata": {},
   "outputs": [],
   "source": [
    "rfr_random_boosted.best_params_"
   ]
  },
  {
   "cell_type": "code",
   "execution_count": null,
   "metadata": {},
   "outputs": [],
   "source": [
    "rfr_random_boosted.best_estimator_"
   ]
  },
  {
   "cell_type": "code",
   "execution_count": null,
   "metadata": {},
   "outputs": [],
   "source": [
    "from sklearn.feature_selection import SelectKBest, f_classif\n",
    "def make_pipeline(k, n):\n",
    "    pipeline = Pipeline(steps=[('preprocessor',\n",
    "                    ColumnTransformer(transformers=[('num',\n",
    "                                                    Pipeline(steps=[('imputer',\n",
    "                                                                    SimpleImputer(strategy='median')),\n",
    "                                                                    ('pca',\n",
    "                                                                    PCA(n_components=n))]),\n",
    "                                                    pd.Index(['x1', 'x2', 'x3', 'x4', 'x5', 'x6', 'x8', 'x9', 'x10', 'x11', 'x13'], dtype='object')),\n",
    "                                                    ('cat',\n",
    "                                                    Pipeline(steps=[('imputer',\n",
    "                                                                    SimpleImputer(fill_value='missing',\n",
    "                                                                                    strategy='constant')),\n",
    "                                                                    ('encoder',\n",
    "                                                                    OrdinalEncoder(handle_unknown='use_encoded_value',unknown_value=-1))]),\n",
    "                                                    pd.Index(['x7', 'x12'], dtype='object'))])),\n",
    "                    ('select', SelectKBest(f_classif, k=k)),\n",
    "                    ('forest',\n",
    "                    XGBRFClassifier(classifier__subsample= 0.5,\n",
    "                                    classifier__reg_lambda= 5.0,\n",
    "                                    classifier__reg_alpha = 1.0,\n",
    "                                    classifier__random_state = 42,\n",
    "                                    classifier__n_jobs = 2,\n",
    "                                    classifier__n_estimators = 300,\n",
    "                                    classifier__min_child_weight = 1,\n",
    "                                    classifier__max_depth = 6,\n",
    "                                    classifier__max_delta_step = 8,\n",
    "                                    classifier__learning_rate = 0.3,\n",
    "                                    classifier__gamma = 0.1,\n",
    "                                    classifier__colsample_bytree = 0.9,\n",
    "                                    classifier__colsample_bynode = 0.8,\n",
    "                                    classifier__colsample_bylevel = 1.0,\n",
    "                                    classifier__base_score = 0.8))])\n",
    "    return pipeline"
   ]
  },
  {
   "cell_type": "code",
   "execution_count": null,
   "metadata": {},
   "outputs": [],
   "source": [
    "from sklearn.model_selection import cross_val_score\n",
    "\n",
    "from sklearn.preprocessing import LabelEncoder\n",
    "le = LabelEncoder()\n",
    "y_train_boosted = le.fit_transform(y_train)\n",
    "\n",
    "\n",
    "cv_scores = {}\n",
    "for n in range(1, 12):\n",
    "    for k in range(1, n):\n",
    "        pipeline = make_pipeline(k, n)\n",
    "        scores = cross_val_score(pipeline, X_train, y_train_boosted, cv = 10, n_jobs=-1)\n",
    "        cv_scores[(k, n)] = scores.mean()\n",
    "\n",
    "print(max(cv_scores, key=cv_scores.get), cv_scores[max(cv_scores, key=cv_scores.get)])\n",
    "params = max(cv_scores, key=cv_scores.get)\n",
    "model = make_pipeline(params[0], params[1])\n",
    "model.fit(X_train, y_train_boosted)\n",
    "predictions = model.predict(eval)\n",
    "\n",
    "predictions = le.inverse_transform(predictions)\n",
    "\n",
    "with open(\"predictions.txt\", \"w\") as f:\n",
    "    for prediction in predictions:\n",
    "         f.write(str(prediction) + \"\\n\")\n"
   ]
  },
  {
   "cell_type": "code",
   "execution_count": null,
   "metadata": {},
   "outputs": [],
   "source": [
    "print(max(cv_scores, key=cv_scores.get), cv_scores[max(cv_scores, key=cv_scores.get)])"
   ]
  }
 ],
 "metadata": {
  "kernelspec": {
   "display_name": "Python 3",
   "language": "python",
   "name": "python3"
  },
  "language_info": {
   "codemirror_mode": {
    "name": "ipython",
    "version": 3
   },
   "file_extension": ".py",
   "mimetype": "text/x-python",
   "name": "python",
   "nbconvert_exporter": "python",
   "pygments_lexer": "ipython3",
   "version": "3.10.7"
  },
  "orig_nbformat": 4,
  "vscode": {
   "interpreter": {
    "hash": "aee8b7b246df8f9039afb4144a1f6fd8d2ca17a180786b69acc140d282b71a49"
   }
  }
 },
 "nbformat": 4,
 "nbformat_minor": 2
}
